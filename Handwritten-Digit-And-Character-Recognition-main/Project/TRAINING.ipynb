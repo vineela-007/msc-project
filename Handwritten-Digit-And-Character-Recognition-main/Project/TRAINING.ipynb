{
 "cells": [
  {
   "cell_type": "code",
   "execution_count": 1,
   "id": "dfbe32b3",
   "metadata": {},
   "outputs": [],
   "source": [
    "import tensorflow as tf         #importing tensorflow for computing."
   ]
  },
  {
   "cell_type": "code",
   "execution_count": 4,
   "id": "9225eb88",
   "metadata": {},
   "outputs": [
    {
     "name": "stderr",
     "output_type": "stream",
     "text": [
      "Matplotlib is building the font cache; this may take a moment.\n"
     ]
    }
   ],
   "source": [
    "import matplotlib               # inserting just to check the graph that how the data looks\n",
    "import matplotlib.pyplot as plt\n",
    "%matplotlib inline"
   ]
  },
  {
   "cell_type": "code",
   "execution_count": 3,
   "id": "80b348e8",
   "metadata": {},
   "outputs": [
    {
     "name": "stdout",
     "output_type": "stream",
     "text": [
      "Collecting matplotlib\n",
      "  Downloading matplotlib-3.9.0-cp312-cp312-win_amd64.whl.metadata (11 kB)\n",
      "Collecting contourpy>=1.0.1 (from matplotlib)\n",
      "  Downloading contourpy-1.2.1-cp312-cp312-win_amd64.whl.metadata (5.8 kB)\n",
      "Collecting cycler>=0.10 (from matplotlib)\n",
      "  Using cached cycler-0.12.1-py3-none-any.whl.metadata (3.8 kB)\n",
      "Collecting fonttools>=4.22.0 (from matplotlib)\n",
      "  Downloading fonttools-4.53.0-cp312-cp312-win_amd64.whl.metadata (165 kB)\n",
      "     ---------------------------------------- 0.0/165.5 kB ? eta -:--:--\n",
      "     -------------------------------- ----- 143.4/165.5 kB 4.3 MB/s eta 0:00:01\n",
      "     -------------------------------------- 165.5/165.5 kB 2.0 MB/s eta 0:00:00\n",
      "Collecting kiwisolver>=1.3.1 (from matplotlib)\n",
      "  Downloading kiwisolver-1.4.5-cp312-cp312-win_amd64.whl.metadata (6.5 kB)\n",
      "Requirement already satisfied: numpy>=1.23 in c:\\users\\administrator\\desktop\\msc project 2\\.venv\\lib\\site-packages (from matplotlib) (1.26.4)\n",
      "Requirement already satisfied: packaging>=20.0 in c:\\users\\administrator\\desktop\\msc project 2\\.venv\\lib\\site-packages (from matplotlib) (24.0)\n",
      "Collecting pillow>=8 (from matplotlib)\n",
      "  Using cached pillow-10.3.0-cp312-cp312-win_amd64.whl.metadata (9.4 kB)\n",
      "Collecting pyparsing>=2.3.1 (from matplotlib)\n",
      "  Using cached pyparsing-3.1.2-py3-none-any.whl.metadata (5.1 kB)\n",
      "Requirement already satisfied: python-dateutil>=2.7 in c:\\users\\administrator\\desktop\\msc project 2\\.venv\\lib\\site-packages (from matplotlib) (2.9.0.post0)\n",
      "Requirement already satisfied: six>=1.5 in c:\\users\\administrator\\desktop\\msc project 2\\.venv\\lib\\site-packages (from python-dateutil>=2.7->matplotlib) (1.16.0)\n",
      "Downloading matplotlib-3.9.0-cp312-cp312-win_amd64.whl (8.0 MB)\n",
      "   ---------------------------------------- 0.0/8.0 MB ? eta -:--:--\n",
      "   -- ------------------------------------- 0.6/8.0 MB 18.2 MB/s eta 0:00:01\n",
      "   -- ------------------------------------- 0.6/8.0 MB 7.4 MB/s eta 0:00:02\n",
      "   ---- ----------------------------------- 0.9/8.0 MB 7.0 MB/s eta 0:00:02\n",
      "   ---- ----------------------------------- 0.9/8.0 MB 7.0 MB/s eta 0:00:02\n",
      "   ---- ----------------------------------- 0.9/8.0 MB 7.0 MB/s eta 0:00:02\n",
      "   ---- ----------------------------------- 1.0/8.0 MB 4.3 MB/s eta 0:00:02\n",
      "   ---- ----------------------------------- 1.0/8.0 MB 4.3 MB/s eta 0:00:02\n",
      "   ----- ---------------------------------- 1.1/8.0 MB 3.2 MB/s eta 0:00:03\n",
      "   ------ --------------------------------- 1.3/8.0 MB 3.2 MB/s eta 0:00:03\n",
      "   ------ --------------------------------- 1.3/8.0 MB 2.9 MB/s eta 0:00:03\n",
      "   ------- -------------------------------- 1.4/8.0 MB 3.0 MB/s eta 0:00:03\n",
      "   ------- -------------------------------- 1.4/8.0 MB 3.0 MB/s eta 0:00:03\n",
      "   ------- -------------------------------- 1.5/8.0 MB 2.5 MB/s eta 0:00:03\n",
      "   ------- -------------------------------- 1.5/8.0 MB 2.3 MB/s eta 0:00:03\n",
      "   ------- -------------------------------- 1.5/8.0 MB 2.2 MB/s eta 0:00:03\n",
      "   ------- -------------------------------- 1.5/8.0 MB 2.0 MB/s eta 0:00:04\n",
      "   ------- -------------------------------- 1.5/8.0 MB 2.0 MB/s eta 0:00:04\n",
      "   ------- -------------------------------- 1.6/8.0 MB 1.8 MB/s eta 0:00:04\n",
      "   ------- -------------------------------- 1.6/8.0 MB 1.8 MB/s eta 0:00:04\n",
      "   ------- -------------------------------- 1.6/8.0 MB 1.7 MB/s eta 0:00:04\n",
      "   -------- ------------------------------- 1.7/8.0 MB 1.8 MB/s eta 0:00:04\n",
      "   --------- ------------------------------ 1.9/8.0 MB 1.9 MB/s eta 0:00:04\n",
      "   --------- ------------------------------ 2.0/8.0 MB 1.9 MB/s eta 0:00:04\n",
      "   ---------- ----------------------------- 2.0/8.0 MB 1.9 MB/s eta 0:00:04\n",
      "   ---------- ----------------------------- 2.0/8.0 MB 1.9 MB/s eta 0:00:04\n",
      "   ---------- ----------------------------- 2.0/8.0 MB 1.9 MB/s eta 0:00:04\n",
      "   ----------- ---------------------------- 2.2/8.0 MB 1.7 MB/s eta 0:00:04\n",
      "   ----------- ---------------------------- 2.2/8.0 MB 1.7 MB/s eta 0:00:04\n",
      "   ----------- ---------------------------- 2.3/8.0 MB 1.7 MB/s eta 0:00:04\n",
      "   ----------- ---------------------------- 2.3/8.0 MB 1.7 MB/s eta 0:00:04\n",
      "   ------------ --------------------------- 2.4/8.0 MB 1.7 MB/s eta 0:00:04\n",
      "   ------------ --------------------------- 2.5/8.0 MB 1.7 MB/s eta 0:00:04\n",
      "   ------------ --------------------------- 2.5/8.0 MB 1.7 MB/s eta 0:00:04\n",
      "   ------------ --------------------------- 2.6/8.0 MB 1.6 MB/s eta 0:00:04\n",
      "   ------------- -------------------------- 2.7/8.0 MB 1.6 MB/s eta 0:00:04\n",
      "   ------------- -------------------------- 2.7/8.0 MB 1.6 MB/s eta 0:00:04\n",
      "   ------------- -------------------------- 2.8/8.0 MB 1.6 MB/s eta 0:00:04\n",
      "   -------------- ------------------------- 2.8/8.0 MB 1.6 MB/s eta 0:00:04\n",
      "   -------------- ------------------------- 2.9/8.0 MB 1.6 MB/s eta 0:00:04\n",
      "   -------------- ------------------------- 2.9/8.0 MB 1.6 MB/s eta 0:00:04\n",
      "   --------------- ------------------------ 3.0/8.0 MB 1.6 MB/s eta 0:00:04\n",
      "   --------------- ------------------------ 3.1/8.0 MB 1.6 MB/s eta 0:00:04\n",
      "   --------------- ------------------------ 3.2/8.0 MB 1.6 MB/s eta 0:00:04\n",
      "   ---------------- ----------------------- 3.2/8.0 MB 1.6 MB/s eta 0:00:03\n",
      "   ---------------- ----------------------- 3.3/8.0 MB 1.6 MB/s eta 0:00:03\n",
      "   ---------------- ----------------------- 3.4/8.0 MB 1.6 MB/s eta 0:00:03\n",
      "   ----------------- ---------------------- 3.4/8.0 MB 1.6 MB/s eta 0:00:03\n",
      "   ----------------- ---------------------- 3.5/8.0 MB 1.5 MB/s eta 0:00:03\n",
      "   ----------------- ---------------------- 3.5/8.0 MB 1.5 MB/s eta 0:00:03\n",
      "   ----------------- ---------------------- 3.5/8.0 MB 1.5 MB/s eta 0:00:03\n",
      "   ----------------- ---------------------- 3.6/8.0 MB 1.5 MB/s eta 0:00:03\n",
      "   ------------------ --------------------- 3.7/8.0 MB 1.5 MB/s eta 0:00:03\n",
      "   ------------------ --------------------- 3.7/8.0 MB 1.5 MB/s eta 0:00:03\n",
      "   ------------------ --------------------- 3.7/8.0 MB 1.5 MB/s eta 0:00:03\n",
      "   ------------------- -------------------- 3.8/8.0 MB 1.5 MB/s eta 0:00:03\n",
      "   ------------------- -------------------- 3.9/8.0 MB 1.5 MB/s eta 0:00:03\n",
      "   ------------------- -------------------- 3.9/8.0 MB 1.5 MB/s eta 0:00:03\n",
      "   ------------------- -------------------- 3.9/8.0 MB 1.5 MB/s eta 0:00:03\n",
      "   -------------------- ------------------- 4.0/8.0 MB 1.4 MB/s eta 0:00:03\n",
      "   -------------------- ------------------- 4.0/8.0 MB 1.5 MB/s eta 0:00:03\n",
      "   -------------------- ------------------- 4.0/8.0 MB 1.5 MB/s eta 0:00:03\n",
      "   -------------------- ------------------- 4.0/8.0 MB 1.5 MB/s eta 0:00:03\n",
      "   -------------------- ------------------- 4.1/8.0 MB 1.4 MB/s eta 0:00:03\n",
      "   -------------------- ------------------- 4.1/8.0 MB 1.4 MB/s eta 0:00:03\n",
      "   --------------------- ------------------ 4.2/8.0 MB 1.4 MB/s eta 0:00:03\n",
      "   --------------------- ------------------ 4.3/8.0 MB 1.4 MB/s eta 0:00:03\n",
      "   --------------------- ------------------ 4.3/8.0 MB 1.4 MB/s eta 0:00:03\n",
      "   --------------------- ------------------ 4.4/8.0 MB 1.4 MB/s eta 0:00:03\n",
      "   ---------------------- ----------------- 4.4/8.0 MB 1.4 MB/s eta 0:00:03\n",
      "   ---------------------- ----------------- 4.5/8.0 MB 1.4 MB/s eta 0:00:03\n",
      "   ---------------------- ----------------- 4.6/8.0 MB 1.4 MB/s eta 0:00:03\n",
      "   ----------------------- ---------------- 4.6/8.0 MB 1.4 MB/s eta 0:00:03\n",
      "   ----------------------- ---------------- 4.7/8.0 MB 1.4 MB/s eta 0:00:03\n",
      "   ------------------------ --------------- 4.8/8.0 MB 1.4 MB/s eta 0:00:03\n",
      "   ------------------------ --------------- 5.0/8.0 MB 1.4 MB/s eta 0:00:03\n",
      "   ------------------------- -------------- 5.1/8.0 MB 1.4 MB/s eta 0:00:03\n",
      "   -------------------------- ------------- 5.2/8.0 MB 1.4 MB/s eta 0:00:02\n",
      "   -------------------------- ------------- 5.4/8.0 MB 1.5 MB/s eta 0:00:02\n",
      "   --------------------------- ------------ 5.5/8.0 MB 1.5 MB/s eta 0:00:02\n",
      "   --------------------------- ------------ 5.5/8.0 MB 1.5 MB/s eta 0:00:02\n",
      "   ---------------------------- ----------- 5.6/8.0 MB 1.5 MB/s eta 0:00:02\n",
      "   ---------------------------- ----------- 5.7/8.0 MB 1.5 MB/s eta 0:00:02\n",
      "   ---------------------------- ----------- 5.7/8.0 MB 1.5 MB/s eta 0:00:02\n",
      "   ---------------------------- ----------- 5.8/8.0 MB 1.5 MB/s eta 0:00:02\n",
      "   ----------------------------- ---------- 5.9/8.0 MB 1.5 MB/s eta 0:00:02\n",
      "   ----------------------------- ---------- 5.9/8.0 MB 1.5 MB/s eta 0:00:02\n",
      "   ------------------------------ --------- 6.0/8.0 MB 1.5 MB/s eta 0:00:02\n",
      "   ------------------------------ --------- 6.0/8.0 MB 1.5 MB/s eta 0:00:02\n",
      "   ------------------------------ --------- 6.1/8.0 MB 1.5 MB/s eta 0:00:02\n",
      "   ------------------------------ --------- 6.1/8.0 MB 1.4 MB/s eta 0:00:02\n",
      "   ------------------------------ --------- 6.1/8.0 MB 1.4 MB/s eta 0:00:02\n",
      "   ------------------------------- -------- 6.2/8.0 MB 1.4 MB/s eta 0:00:02\n",
      "   ------------------------------- -------- 6.2/8.0 MB 1.4 MB/s eta 0:00:02\n",
      "   ------------------------------- -------- 6.3/8.0 MB 1.4 MB/s eta 0:00:02\n",
      "   ------------------------------- -------- 6.3/8.0 MB 1.4 MB/s eta 0:00:02\n",
      "   ------------------------------- -------- 6.4/8.0 MB 1.4 MB/s eta 0:00:02\n",
      "   -------------------------------- ------- 6.4/8.0 MB 1.4 MB/s eta 0:00:02\n",
      "   -------------------------------- ------- 6.5/8.0 MB 1.4 MB/s eta 0:00:02\n",
      "   -------------------------------- ------- 6.5/8.0 MB 1.4 MB/s eta 0:00:02\n",
      "   --------------------------------- ------ 6.6/8.0 MB 1.4 MB/s eta 0:00:01\n",
      "   --------------------------------- ------ 6.7/8.0 MB 1.4 MB/s eta 0:00:01\n",
      "   --------------------------------- ------ 6.7/8.0 MB 1.4 MB/s eta 0:00:01\n",
      "   --------------------------------- ------ 6.8/8.0 MB 1.4 MB/s eta 0:00:01\n",
      "   ---------------------------------- ----- 6.8/8.0 MB 1.4 MB/s eta 0:00:01\n",
      "   ---------------------------------- ----- 6.9/8.0 MB 1.4 MB/s eta 0:00:01\n",
      "   ----------------------------------- ---- 7.0/8.0 MB 1.4 MB/s eta 0:00:01\n",
      "   ----------------------------------- ---- 7.0/8.0 MB 1.4 MB/s eta 0:00:01\n",
      "   ----------------------------------- ---- 7.1/8.0 MB 1.4 MB/s eta 0:00:01\n",
      "   ----------------------------------- ---- 7.1/8.0 MB 1.4 MB/s eta 0:00:01\n",
      "   ------------------------------------ --- 7.2/8.0 MB 1.4 MB/s eta 0:00:01\n",
      "   ------------------------------------ --- 7.2/8.0 MB 1.4 MB/s eta 0:00:01\n",
      "   ------------------------------------ --- 7.3/8.0 MB 1.4 MB/s eta 0:00:01\n",
      "   ------------------------------------ --- 7.3/8.0 MB 1.4 MB/s eta 0:00:01\n",
      "   ------------------------------------ --- 7.3/8.0 MB 1.4 MB/s eta 0:00:01\n",
      "   ------------------------------------- -- 7.4/8.0 MB 1.4 MB/s eta 0:00:01\n",
      "   ------------------------------------- -- 7.4/8.0 MB 1.4 MB/s eta 0:00:01\n",
      "   ------------------------------------- -- 7.4/8.0 MB 1.4 MB/s eta 0:00:01\n",
      "   ------------------------------------- -- 7.5/8.0 MB 1.4 MB/s eta 0:00:01\n",
      "   ------------------------------------- -- 7.5/8.0 MB 1.4 MB/s eta 0:00:01\n",
      "   ------------------------------------- -- 7.6/8.0 MB 1.4 MB/s eta 0:00:01\n",
      "   -------------------------------------- - 7.6/8.0 MB 1.4 MB/s eta 0:00:01\n",
      "   -------------------------------------- - 7.7/8.0 MB 1.4 MB/s eta 0:00:01\n",
      "   -------------------------------------- - 7.7/8.0 MB 1.3 MB/s eta 0:00:01\n",
      "   -------------------------------------- - 7.7/8.0 MB 1.3 MB/s eta 0:00:01\n",
      "   ---------------------------------------  7.8/8.0 MB 1.3 MB/s eta 0:00:01\n",
      "   ---------------------------------------  7.8/8.0 MB 1.3 MB/s eta 0:00:01\n",
      "   ---------------------------------------  7.9/8.0 MB 1.3 MB/s eta 0:00:01\n",
      "   ---------------------------------------  7.9/8.0 MB 1.3 MB/s eta 0:00:01\n",
      "   ---------------------------------------  8.0/8.0 MB 1.3 MB/s eta 0:00:01\n",
      "   ---------------------------------------  8.0/8.0 MB 1.3 MB/s eta 0:00:01\n",
      "   ---------------------------------------- 8.0/8.0 MB 1.3 MB/s eta 0:00:00\n",
      "Downloading contourpy-1.2.1-cp312-cp312-win_amd64.whl (189 kB)\n",
      "   ---------------------------------------- 0.0/189.9 kB ? eta -:--:--\n",
      "   ------------ --------------------------- 61.4/189.9 kB 1.7 MB/s eta 0:00:01\n",
      "   ------------------------- -------------- 122.9/189.9 kB 1.4 MB/s eta 0:00:01\n",
      "   ------------------------------------ --- 174.1/189.9 kB 1.5 MB/s eta 0:00:01\n",
      "   ---------------------------------------- 189.9/189.9 kB 1.3 MB/s eta 0:00:00\n",
      "Using cached cycler-0.12.1-py3-none-any.whl (8.3 kB)\n",
      "Downloading fonttools-4.53.0-cp312-cp312-win_amd64.whl (2.2 MB)\n",
      "   ---------------------------------------- 0.0/2.2 MB ? eta -:--:--\n",
      "    --------------------------------------- 0.0/2.2 MB 991.0 kB/s eta 0:00:03\n",
      "   -- ------------------------------------- 0.2/2.2 MB 1.6 MB/s eta 0:00:02\n",
      "   ---- ----------------------------------- 0.2/2.2 MB 1.6 MB/s eta 0:00:02\n",
      "   ------ --------------------------------- 0.3/2.2 MB 1.6 MB/s eta 0:00:02\n",
      "   ------- -------------------------------- 0.4/2.2 MB 1.8 MB/s eta 0:00:02\n",
      "   --------- ------------------------------ 0.5/2.2 MB 1.8 MB/s eta 0:00:01\n",
      "   ----------- ---------------------------- 0.6/2.2 MB 1.8 MB/s eta 0:00:01\n",
      "   ------------- -------------------------- 0.7/2.2 MB 1.8 MB/s eta 0:00:01\n",
      "   -------------- ------------------------- 0.8/2.2 MB 1.8 MB/s eta 0:00:01\n",
      "   ---------------- ----------------------- 0.9/2.2 MB 1.8 MB/s eta 0:00:01\n",
      "   ----------------- ---------------------- 1.0/2.2 MB 1.7 MB/s eta 0:00:01\n",
      "   -------------------- ------------------- 1.1/2.2 MB 1.9 MB/s eta 0:00:01\n",
      "   ---------------------- ----------------- 1.2/2.2 MB 1.9 MB/s eta 0:00:01\n",
      "   ----------------------- ---------------- 1.3/2.2 MB 1.9 MB/s eta 0:00:01\n",
      "   ------------------------- -------------- 1.4/2.2 MB 2.0 MB/s eta 0:00:01\n",
      "   --------------------------- ------------ 1.5/2.2 MB 2.0 MB/s eta 0:00:01\n",
      "   ---------------------------- ----------- 1.6/2.2 MB 2.0 MB/s eta 0:00:01\n",
      "   ------------------------------ --------- 1.7/2.2 MB 2.0 MB/s eta 0:00:01\n",
      "   ------------------------------- -------- 1.7/2.2 MB 1.9 MB/s eta 0:00:01\n",
      "   -------------------------------- ------- 1.8/2.2 MB 1.9 MB/s eta 0:00:01\n",
      "   ---------------------------------- ----- 1.9/2.2 MB 1.9 MB/s eta 0:00:01\n",
      "   ----------------------------------- ---- 1.9/2.2 MB 1.9 MB/s eta 0:00:01\n",
      "   ------------------------------------ --- 2.0/2.2 MB 1.8 MB/s eta 0:00:01\n",
      "   ------------------------------------- -- 2.0/2.2 MB 1.8 MB/s eta 0:00:01\n",
      "   ------------------------------------- -- 2.1/2.2 MB 1.8 MB/s eta 0:00:01\n",
      "   -------------------------------------- - 2.1/2.2 MB 1.7 MB/s eta 0:00:01\n",
      "   -------------------------------------- - 2.1/2.2 MB 1.7 MB/s eta 0:00:01\n",
      "   ---------------------------------------  2.2/2.2 MB 1.6 MB/s eta 0:00:01\n",
      "   ---------------------------------------  2.2/2.2 MB 1.6 MB/s eta 0:00:01\n",
      "   ---------------------------------------- 2.2/2.2 MB 1.6 MB/s eta 0:00:00\n",
      "Downloading kiwisolver-1.4.5-cp312-cp312-win_amd64.whl (56 kB)\n",
      "   ---------------------------------------- 0.0/56.0 kB ? eta -:--:--\n",
      "   --------------------- ------------------ 30.7/56.0 kB 1.3 MB/s eta 0:00:01\n",
      "   ---------------------------------------- 56.0/56.0 kB 738.1 kB/s eta 0:00:00\n",
      "Using cached pillow-10.3.0-cp312-cp312-win_amd64.whl (2.5 MB)\n",
      "Using cached pyparsing-3.1.2-py3-none-any.whl (103 kB)\n",
      "Installing collected packages: pyparsing, pillow, kiwisolver, fonttools, cycler, contourpy, matplotlib\n",
      "Successfully installed contourpy-1.2.1 cycler-0.12.1 fonttools-4.53.0 kiwisolver-1.4.5 matplotlib-3.9.0 pillow-10.3.0 pyparsing-3.1.2\n"
     ]
    }
   ],
   "source": [
    "!pip install matplotlib"
   ]
  },
  {
   "cell_type": "code",
   "execution_count": 5,
   "id": "64ed45eb",
   "metadata": {},
   "outputs": [],
   "source": [
    "mnist =tf.keras.datasets.mnist  #data set of hand written digits."
   ]
  },
  {
   "cell_type": "code",
   "execution_count": 6,
   "id": "9d609216",
   "metadata": {},
   "outputs": [],
   "source": [
    "(x_train, y_train),(x_test,y_test) = mnist.load_data()"
   ]
  },
  {
   "cell_type": "code",
   "execution_count": 7,
   "id": "2b515927",
   "metadata": {},
   "outputs": [
    {
     "data": {
      "text/plain": [
       "((60000, 28, 28), (10000, 28, 28))"
      ]
     },
     "execution_count": 7,
     "metadata": {},
     "output_type": "execute_result"
    }
   ],
   "source": [
    "x_train.shape,x_test.shape"
   ]
  },
  {
   "cell_type": "code",
   "execution_count": 8,
   "id": "a02bda8d",
   "metadata": {},
   "outputs": [
    {
     "data": {
      "image/png": "[encoded data removed]",
      "text/plain": [
       "<Figure size 640x480 with 1 Axes>"
      ]
     },
     "metadata": {},
     "output_type": "display_data"
    },
    {
     "data": {
      "text/plain": [
       "<matplotlib.image.AxesImage at 0x19a56740d10>"
      ]
     },
     "execution_count": 8,
     "metadata": {},
     "output_type": "execute_result"
    },
    {
     "data": {
      "image/png": "[encoded data removed]",
      "text/plain": [
       "<Figure size 640x480 with 1 Axes>"
      ]
     },
     "metadata": {},
     "output_type": "display_data"
    }
   ],
   "source": [
    "plt.imshow(x_train[0])          #checking the graph of a random image.\n",
    "plt.show()\n",
    "plt.imshow(x_train[0],cmap=plt.cm.binary)"
   ]
  },
  {
   "cell_type": "markdown",
   "id": "1a1e65dd",
   "metadata": {},
   "source": [
    "## Noramlizing the data [Pre_Processing Step]"
   ]
  },
  {
   "cell_type": "code",
   "execution_count": 9,
   "id": "0d9460d1",
   "metadata": {},
   "outputs": [
    {
     "data": {
      "text/plain": [
       "<matplotlib.image.AxesImage at 0x19a567097f0>"
      ]
     },
     "execution_count": 9,
     "metadata": {},
     "output_type": "execute_result"
    },
    {
     "data": {
      "image/png": "[encoded data removed]",
      "text/plain": [
       "<Figure size 640x480 with 1 Axes>"
      ]
     },
     "metadata": {},
     "output_type": "display_data"
    }
   ],
   "source": [
    "#### noramlizing the dataset.\n",
    "import numpy as np\n",
    "x_train=tf.keras.utils.normalize(x_train,axis=1)\n",
    "x_test=tf.keras.utils.normalize(x_test,axis=1)\n",
    "plt.imshow(x_train[0],cmap=plt.cm.binary)"
   ]
  },
  {
   "cell_type": "markdown",
   "id": "618a6763",
   "metadata": {},
   "source": [
    "### Resizing images to make it suitable for apply Convolution Operation."
   ]
  },
  {
   "cell_type": "code",
   "execution_count": 10,
   "id": "10be0a7d",
   "metadata": {},
   "outputs": [
    {
     "name": "stdout",
     "output_type": "stream",
     "text": [
      "Training Samples Dimension:  (60000, 28, 28, 1)\n",
      "Testing Samples Dimension:  (10000, 28, 28, 1)\n"
     ]
    }
   ],
   "source": [
    "IMG_SIZE=28\n",
    "x_trainr=np.array(x_train).reshape(-1,IMG_SIZE,IMG_SIZE,1) #INCREASIN one dimension for kernel operation.\n",
    "x_testr=np.array(x_test).reshape(-1,IMG_SIZE,IMG_SIZE,1)   #INCREASIN one dimension for kernel operation\n",
    "print(\"Training Samples Dimension: \",x_trainr.shape)\n",
    "print(\"Testing Samples Dimension: \",x_testr.shape)"
   ]
  },
  {
   "cell_type": "markdown",
   "id": "00ac53fe",
   "metadata": {},
   "source": [
    "## Creating  a Deep Neural Network\n",
    "\n",
    "### Training on 60,000 samples of MNIST handwritten dataset"
   ]
  },
  {
   "cell_type": "code",
   "execution_count": 11,
   "id": "ba1620d8",
   "metadata": {},
   "outputs": [],
   "source": [
    "from tensorflow.keras.models import Sequential\n",
    "from tensorflow.keras.layers import Dense, Dropout, Activation, Flatten, Conv2D, MaxPooling2D"
   ]
  },
  {
   "cell_type": "code",
   "execution_count": 12,
   "id": "e84cd7cb",
   "metadata": {},
   "outputs": [
    {
     "name": "stderr",
     "output_type": "stream",
     "text": [
      "c:\\Users\\Administrator\\Desktop\\msc project 2\\.venv\\Lib\\site-packages\\keras\\src\\layers\\convolutional\\base_conv.py:107: UserWarning: Do not pass an `input_shape`/`input_dim` argument to a layer. When using Sequential models, prefer using an `Input(shape)` object as the first layer in the model instead.\n",
      "  super().__init__(activity_regularizer=activity_regularizer, **kwargs)\n"
     ]
    }
   ],
   "source": [
    "#### Creating a Neural Network \n",
    "model =Sequential()\n",
    "\n",
    "##First Convolution Layer\n",
    "model.add(Conv2D(64,(3,3),input_shape=x_trainr.shape[1:]))  #pnly the first concolution layer to mention input layer size.\n",
    "model.add(Activation('relu'))                               #activation function to make it non-linear,<0 remove,>0 allow\n",
    "model.add(MaxPooling2D(pool_size=(2,2)))                    #here we are maxpooling\n",
    "\n",
    "##Second Convolution Layer\n",
    "model.add(Conv2D(64,(3,3)))                                 #2nd layer\n",
    "model.add(Activation('relu'))\n",
    "model.add(MaxPooling2D(pool_size=(2,2))) \n",
    "\n",
    "##Thirdt Convolution Layer\n",
    "model.add(Conv2D(64,(3,3)))                                 #3rd layer\n",
    "model.add(Activation('relu'))\n",
    "model.add(MaxPooling2D(pool_size=(2,2))) \n",
    "\n",
    "### Fully Connected Layer #1\n",
    "model.add(Flatten())                                        #used to flatten to convert 2d to 1D\n",
    "model.add(Dense(64))\n",
    "model.add(Activation(\"relu\"))\n",
    "\n",
    "\n",
    "### Fully Connected Layer #2\n",
    "model.add(Dense(32))\n",
    "model.add(Activation(\"relu\"))\n",
    "\n",
    "####Last Fully Connected Layer , output must be equal to number of classes, 10(0-9)\n",
    "model.add(Dense(10))                                       #last dense layer must be equal to 10\n",
    "model.add(Activation('softmax'))                           #Activation function is changed to Softmax (Class Probabilities)\n"
   ]
  },
  {
   "cell_type": "code",
   "execution_count": 13,
   "id": "54aa0b79",
   "metadata": {},
   "outputs": [
    {
     "data": {
      "text/html": [
       "<pre style=\"white-space:pre;overflow-x:auto;line-height:normal;font-family:Menlo,'DejaVu Sans Mono',consolas,'Courier New',monospace\"><span style=\"font-weight: bold\">Model: \"sequential\"</span>\n",
       "</pre>\n"
      ],
      "text/plain": [
       "\u001b[1mModel: \"sequential\"\u001b[0m\n"
      ]
     },
     "metadata": {},
     "output_type": "display_data"
    },
    {
     "data": {
      "text/html": [
       "<pre style=\"white-space:pre;overflow-x:auto;line-height:normal;font-family:Menlo,'DejaVu Sans Mono',consolas,'Courier New',monospace\">┏━━━━━━━━━━━━━━━━━━━━━━━━━━━━━━━━━┳━━━━━━━━━━━━━━━━━━━━━━━━┳━━━━━━━━━━━━━━━┓\n",
       "┃<span style=\"font-weight: bold\"> Layer (type)                    </span>┃<span style=\"font-weight: bold\"> Output Shape           </span>┃<span style=\"font-weight: bold\">       Param # </span>┃\n",
       "┡━━━━━━━━━━━━━━━━━━━━━━━━━━━━━━━━━╇━━━━━━━━━━━━━━━━━━━━━━━━╇━━━━━━━━━━━━━━━┩\n",
       "│ conv2d (<span style=\"color: #0087ff; text-decoration-color: #0087ff\">Conv2D</span>)                 │ (<span style=\"color: #00d7ff; text-decoration-color: #00d7ff\">None</span>, <span style=\"color: #00af00; text-decoration-color: #00af00\">26</span>, <span style=\"color: #00af00; text-decoration-color: #00af00\">26</span>, <span style=\"color: #00af00; text-decoration-color: #00af00\">64</span>)     │           <span style=\"color: #00af00; text-decoration-color: #00af00\">640</span> │\n",
       "├─────────────────────────────────┼────────────────────────┼───────────────┤\n",
       "│ activation (<span style=\"color: #0087ff; text-decoration-color: #0087ff\">Activation</span>)         │ (<span style=\"color: #00d7ff; text-decoration-color: #00d7ff\">None</span>, <span style=\"color: #00af00; text-decoration-color: #00af00\">26</span>, <span style=\"color: #00af00; text-decoration-color: #00af00\">26</span>, <span style=\"color: #00af00; text-decoration-color: #00af00\">64</span>)     │             <span style=\"color: #00af00; text-decoration-color: #00af00\">0</span> │\n",
       "├─────────────────────────────────┼────────────────────────┼───────────────┤\n",
       "│ max_pooling2d (<span style=\"color: #0087ff; text-decoration-color: #0087ff\">MaxPooling2D</span>)    │ (<span style=\"color: #00d7ff; text-decoration-color: #00d7ff\">None</span>, <span style=\"color: #00af00; text-decoration-color: #00af00\">13</span>, <span style=\"color: #00af00; text-decoration-color: #00af00\">13</span>, <span style=\"color: #00af00; text-decoration-color: #00af00\">64</span>)     │             <span style=\"color: #00af00; text-decoration-color: #00af00\">0</span> │\n",
       "├─────────────────────────────────┼────────────────────────┼───────────────┤\n",
       "│ conv2d_1 (<span style=\"color: #0087ff; text-decoration-color: #0087ff\">Conv2D</span>)               │ (<span style=\"color: #00d7ff; text-decoration-color: #00d7ff\">None</span>, <span style=\"color: #00af00; text-decoration-color: #00af00\">11</span>, <span style=\"color: #00af00; text-decoration-color: #00af00\">11</span>, <span style=\"color: #00af00; text-decoration-color: #00af00\">64</span>)     │        <span style=\"color: #00af00; text-decoration-color: #00af00\">36,928</span> │\n",
       "├─────────────────────────────────┼────────────────────────┼───────────────┤\n",
       "│ activation_1 (<span style=\"color: #0087ff; text-decoration-color: #0087ff\">Activation</span>)       │ (<span style=\"color: #00d7ff; text-decoration-color: #00d7ff\">None</span>, <span style=\"color: #00af00; text-decoration-color: #00af00\">11</span>, <span style=\"color: #00af00; text-decoration-color: #00af00\">11</span>, <span style=\"color: #00af00; text-decoration-color: #00af00\">64</span>)     │             <span style=\"color: #00af00; text-decoration-color: #00af00\">0</span> │\n",
       "├─────────────────────────────────┼────────────────────────┼───────────────┤\n",
       "│ max_pooling2d_1 (<span style=\"color: #0087ff; text-decoration-color: #0087ff\">MaxPooling2D</span>)  │ (<span style=\"color: #00d7ff; text-decoration-color: #00d7ff\">None</span>, <span style=\"color: #00af00; text-decoration-color: #00af00\">5</span>, <span style=\"color: #00af00; text-decoration-color: #00af00\">5</span>, <span style=\"color: #00af00; text-decoration-color: #00af00\">64</span>)       │             <span style=\"color: #00af00; text-decoration-color: #00af00\">0</span> │\n",
       "├─────────────────────────────────┼────────────────────────┼───────────────┤\n",
       "│ conv2d_2 (<span style=\"color: #0087ff; text-decoration-color: #0087ff\">Conv2D</span>)               │ (<span style=\"color: #00d7ff; text-decoration-color: #00d7ff\">None</span>, <span style=\"color: #00af00; text-decoration-color: #00af00\">3</span>, <span style=\"color: #00af00; text-decoration-color: #00af00\">3</span>, <span style=\"color: #00af00; text-decoration-color: #00af00\">64</span>)       │        <span style=\"color: #00af00; text-decoration-color: #00af00\">36,928</span> │\n",
       "├─────────────────────────────────┼────────────────────────┼───────────────┤\n",
       "│ activation_2 (<span style=\"color: #0087ff; text-decoration-color: #0087ff\">Activation</span>)       │ (<span style=\"color: #00d7ff; text-decoration-color: #00d7ff\">None</span>, <span style=\"color: #00af00; text-decoration-color: #00af00\">3</span>, <span style=\"color: #00af00; text-decoration-color: #00af00\">3</span>, <span style=\"color: #00af00; text-decoration-color: #00af00\">64</span>)       │             <span style=\"color: #00af00; text-decoration-color: #00af00\">0</span> │\n",
       "├─────────────────────────────────┼────────────────────────┼───────────────┤\n",
       "│ max_pooling2d_2 (<span style=\"color: #0087ff; text-decoration-color: #0087ff\">MaxPooling2D</span>)  │ (<span style=\"color: #00d7ff; text-decoration-color: #00d7ff\">None</span>, <span style=\"color: #00af00; text-decoration-color: #00af00\">1</span>, <span style=\"color: #00af00; text-decoration-color: #00af00\">1</span>, <span style=\"color: #00af00; text-decoration-color: #00af00\">64</span>)       │             <span style=\"color: #00af00; text-decoration-color: #00af00\">0</span> │\n",
       "├─────────────────────────────────┼────────────────────────┼───────────────┤\n",
       "│ flatten (<span style=\"color: #0087ff; text-decoration-color: #0087ff\">Flatten</span>)               │ (<span style=\"color: #00d7ff; text-decoration-color: #00d7ff\">None</span>, <span style=\"color: #00af00; text-decoration-color: #00af00\">64</span>)             │             <span style=\"color: #00af00; text-decoration-color: #00af00\">0</span> │\n",
       "├─────────────────────────────────┼────────────────────────┼───────────────┤\n",
       "│ dense (<span style=\"color: #0087ff; text-decoration-color: #0087ff\">Dense</span>)                   │ (<span style=\"color: #00d7ff; text-decoration-color: #00d7ff\">None</span>, <span style=\"color: #00af00; text-decoration-color: #00af00\">64</span>)             │         <span style=\"color: #00af00; text-decoration-color: #00af00\">4,160</span> │\n",
       "├─────────────────────────────────┼────────────────────────┼───────────────┤\n",
       "│ activation_3 (<span style=\"color: #0087ff; text-decoration-color: #0087ff\">Activation</span>)       │ (<span style=\"color: #00d7ff; text-decoration-color: #00d7ff\">None</span>, <span style=\"color: #00af00; text-decoration-color: #00af00\">64</span>)             │             <span style=\"color: #00af00; text-decoration-color: #00af00\">0</span> │\n",
       "├─────────────────────────────────┼────────────────────────┼───────────────┤\n",
       "│ dense_1 (<span style=\"color: #0087ff; text-decoration-color: #0087ff\">Dense</span>)                 │ (<span style=\"color: #00d7ff; text-decoration-color: #00d7ff\">None</span>, <span style=\"color: #00af00; text-decoration-color: #00af00\">32</span>)             │         <span style=\"color: #00af00; text-decoration-color: #00af00\">2,080</span> │\n",
       "├─────────────────────────────────┼────────────────────────┼───────────────┤\n",
       "│ activation_4 (<span style=\"color: #0087ff; text-decoration-color: #0087ff\">Activation</span>)       │ (<span style=\"color: #00d7ff; text-decoration-color: #00d7ff\">None</span>, <span style=\"color: #00af00; text-decoration-color: #00af00\">32</span>)             │             <span style=\"color: #00af00; text-decoration-color: #00af00\">0</span> │\n",
       "├─────────────────────────────────┼────────────────────────┼───────────────┤\n",
       "│ dense_2 (<span style=\"color: #0087ff; text-decoration-color: #0087ff\">Dense</span>)                 │ (<span style=\"color: #00d7ff; text-decoration-color: #00d7ff\">None</span>, <span style=\"color: #00af00; text-decoration-color: #00af00\">10</span>)             │           <span style=\"color: #00af00; text-decoration-color: #00af00\">330</span> │\n",
       "├─────────────────────────────────┼────────────────────────┼───────────────┤\n",
       "│ activation_5 (<span style=\"color: #0087ff; text-decoration-color: #0087ff\">Activation</span>)       │ (<span style=\"color: #00d7ff; text-decoration-color: #00d7ff\">None</span>, <span style=\"color: #00af00; text-decoration-color: #00af00\">10</span>)             │             <span style=\"color: #00af00; text-decoration-color: #00af00\">0</span> │\n",
       "└─────────────────────────────────┴────────────────────────┴───────────────┘\n",
       "</pre>\n"
      ],
      "text/plain": [
       "┏━━━━━━━━━━━━━━━━━━━━━━━━━━━━━━━━━┳━━━━━━━━━━━━━━━━━━━━━━━━┳━━━━━━━━━━━━━━━┓\n",
       "┃\u001b[1m \u001b[0m\u001b[1mLayer (type)                   \u001b[0m\u001b[1m \u001b[0m┃\u001b[1m \u001b[0m\u001b[1mOutput Shape          \u001b[0m\u001b[1m \u001b[0m┃\u001b[1m \u001b[0m\u001b[1m      Param #\u001b[0m\u001b[1m \u001b[0m┃\n",
       "┡━━━━━━━━━━━━━━━━━━━━━━━━━━━━━━━━━╇━━━━━━━━━━━━━━━━━━━━━━━━╇━━━━━━━━━━━━━━━┩\n",
       "│ conv2d (\u001b[38;5;33mConv2D\u001b[0m)                 │ (\u001b[38;5;45mNone\u001b[0m, \u001b[38;5;34m26\u001b[0m, \u001b[38;5;34m26\u001b[0m, \u001b[38;5;34m64\u001b[0m)     │           \u001b[38;5;34m640\u001b[0m │\n",
       "├─────────────────────────────────┼────────────────────────┼───────────────┤\n",
       "│ activation (\u001b[38;5;33mActivation\u001b[0m)         │ (\u001b[38;5;45mNone\u001b[0m, \u001b[38;5;34m26\u001b[0m, \u001b[38;5;34m26\u001b[0m, \u001b[38;5;34m64\u001b[0m)     │             \u001b[38;5;34m0\u001b[0m │\n",
       "├─────────────────────────────────┼────────────────────────┼───────────────┤\n",
       "│ max_pooling2d (\u001b[38;5;33mMaxPooling2D\u001b[0m)    │ (\u001b[38;5;45mNone\u001b[0m, \u001b[38;5;34m13\u001b[0m, \u001b[38;5;34m13\u001b[0m, \u001b[38;5;34m64\u001b[0m)     │             \u001b[38;5;34m0\u001b[0m │\n",
       "├─────────────────────────────────┼────────────────────────┼───────────────┤\n",
       "│ conv2d_1 (\u001b[38;5;33mConv2D\u001b[0m)               │ (\u001b[38;5;45mNone\u001b[0m, \u001b[38;5;34m11\u001b[0m, \u001b[38;5;34m11\u001b[0m, \u001b[38;5;34m64\u001b[0m)     │        \u001b[38;5;34m36,928\u001b[0m │\n",
       "├─────────────────────────────────┼────────────────────────┼───────────────┤\n",
       "│ activation_1 (\u001b[38;5;33mActivation\u001b[0m)       │ (\u001b[38;5;45mNone\u001b[0m, \u001b[38;5;34m11\u001b[0m, \u001b[38;5;34m11\u001b[0m, \u001b[38;5;34m64\u001b[0m)     │             \u001b[38;5;34m0\u001b[0m │\n",
       "├─────────────────────────────────┼────────────────────────┼───────────────┤\n",
       "│ max_pooling2d_1 (\u001b[38;5;33mMaxPooling2D\u001b[0m)  │ (\u001b[38;5;45mNone\u001b[0m, \u001b[38;5;34m5\u001b[0m, \u001b[38;5;34m5\u001b[0m, \u001b[38;5;34m64\u001b[0m)       │             \u001b[38;5;34m0\u001b[0m │\n",
       "├─────────────────────────────────┼────────────────────────┼───────────────┤\n",
       "│ conv2d_2 (\u001b[38;5;33mConv2D\u001b[0m)               │ (\u001b[38;5;45mNone\u001b[0m, \u001b[38;5;34m3\u001b[0m, \u001b[38;5;34m3\u001b[0m, \u001b[38;5;34m64\u001b[0m)       │        \u001b[38;5;34m36,928\u001b[0m │\n",
       "├─────────────────────────────────┼────────────────────────┼───────────────┤\n",
       "│ activation_2 (\u001b[38;5;33mActivation\u001b[0m)       │ (\u001b[38;5;45mNone\u001b[0m, \u001b[38;5;34m3\u001b[0m, \u001b[38;5;34m3\u001b[0m, \u001b[38;5;34m64\u001b[0m)       │             \u001b[38;5;34m0\u001b[0m │\n",
       "├─────────────────────────────────┼────────────────────────┼───────────────┤\n",
       "│ max_pooling2d_2 (\u001b[38;5;33mMaxPooling2D\u001b[0m)  │ (\u001b[38;5;45mNone\u001b[0m, \u001b[38;5;34m1\u001b[0m, \u001b[38;5;34m1\u001b[0m, \u001b[38;5;34m64\u001b[0m)       │             \u001b[38;5;34m0\u001b[0m │\n",
       "├─────────────────────────────────┼────────────────────────┼───────────────┤\n",
       "│ flatten (\u001b[38;5;33mFlatten\u001b[0m)               │ (\u001b[38;5;45mNone\u001b[0m, \u001b[38;5;34m64\u001b[0m)             │             \u001b[38;5;34m0\u001b[0m │\n",
       "├─────────────────────────────────┼────────────────────────┼───────────────┤\n",
       "│ dense (\u001b[38;5;33mDense\u001b[0m)                   │ (\u001b[38;5;45mNone\u001b[0m, \u001b[38;5;34m64\u001b[0m)             │         \u001b[38;5;34m4,160\u001b[0m │\n",
       "├─────────────────────────────────┼────────────────────────┼───────────────┤\n",
       "│ activation_3 (\u001b[38;5;33mActivation\u001b[0m)       │ (\u001b[38;5;45mNone\u001b[0m, \u001b[38;5;34m64\u001b[0m)             │             \u001b[38;5;34m0\u001b[0m │\n",
       "├─────────────────────────────────┼────────────────────────┼───────────────┤\n",
       "│ dense_1 (\u001b[38;5;33mDense\u001b[0m)                 │ (\u001b[38;5;45mNone\u001b[0m, \u001b[38;5;34m32\u001b[0m)             │         \u001b[38;5;34m2,080\u001b[0m │\n",
       "├─────────────────────────────────┼────────────────────────┼───────────────┤\n",
       "│ activation_4 (\u001b[38;5;33mActivation\u001b[0m)       │ (\u001b[38;5;45mNone\u001b[0m, \u001b[38;5;34m32\u001b[0m)             │             \u001b[38;5;34m0\u001b[0m │\n",
       "├─────────────────────────────────┼────────────────────────┼───────────────┤\n",
       "│ dense_2 (\u001b[38;5;33mDense\u001b[0m)                 │ (\u001b[38;5;45mNone\u001b[0m, \u001b[38;5;34m10\u001b[0m)             │           \u001b[38;5;34m330\u001b[0m │\n",
       "├─────────────────────────────────┼────────────────────────┼───────────────┤\n",
       "│ activation_5 (\u001b[38;5;33mActivation\u001b[0m)       │ (\u001b[38;5;45mNone\u001b[0m, \u001b[38;5;34m10\u001b[0m)             │             \u001b[38;5;34m0\u001b[0m │\n",
       "└─────────────────────────────────┴────────────────────────┴───────────────┘\n"
      ]
     },
     "metadata": {},
     "output_type": "display_data"
    },
    {
     "data": {
      "text/html": [
       "<pre style=\"white-space:pre;overflow-x:auto;line-height:normal;font-family:Menlo,'DejaVu Sans Mono',consolas,'Courier New',monospace\"><span style=\"font-weight: bold\"> Total params: </span><span style=\"color: #00af00; text-decoration-color: #00af00\">81,066</span> (316.66 KB)\n",
       "</pre>\n"
      ],
      "text/plain": [
       "\u001b[1m Total params: \u001b[0m\u001b[38;5;34m81,066\u001b[0m (316.66 KB)\n"
      ]
     },
     "metadata": {},
     "output_type": "display_data"
    },
    {
     "data": {
      "text/html": [
       "<pre style=\"white-space:pre;overflow-x:auto;line-height:normal;font-family:Menlo,'DejaVu Sans Mono',consolas,'Courier New',monospace\"><span style=\"font-weight: bold\"> Trainable params: </span><span style=\"color: #00af00; text-decoration-color: #00af00\">81,066</span> (316.66 KB)\n",
       "</pre>\n"
      ],
      "text/plain": [
       "\u001b[1m Trainable params: \u001b[0m\u001b[38;5;34m81,066\u001b[0m (316.66 KB)\n"
      ]
     },
     "metadata": {},
     "output_type": "display_data"
    },
    {
     "data": {
      "text/html": [
       "<pre style=\"white-space:pre;overflow-x:auto;line-height:normal;font-family:Menlo,'DejaVu Sans Mono',consolas,'Courier New',monospace\"><span style=\"font-weight: bold\"> Non-trainable params: </span><span style=\"color: #00af00; text-decoration-color: #00af00\">0</span> (0.00 B)\n",
       "</pre>\n"
      ],
      "text/plain": [
       "\u001b[1m Non-trainable params: \u001b[0m\u001b[38;5;34m0\u001b[0m (0.00 B)\n"
      ]
     },
     "metadata": {},
     "output_type": "display_data"
    }
   ],
   "source": [
    "model.summary()                                            #for checking the summary of our model"
   ]
  },
  {
   "cell_type": "code",
   "execution_count": 15,
   "id": "c0638160",
   "metadata": {},
   "outputs": [
    {
     "name": "stdout",
     "output_type": "stream",
     "text": [
      "Epoch 1/5\n",
      "\u001b[1m1313/1313\u001b[0m \u001b[32m━━━━━━━━━━━━━━━━━━━━\u001b[0m\u001b[37m\u001b[0m \u001b[1m37s\u001b[0m 25ms/step - accuracy: 0.7830 - loss: 0.6592 - val_accuracy: 0.9641 - val_loss: 0.1164\n",
      "Epoch 2/5\n",
      "\u001b[1m1313/1313\u001b[0m \u001b[32m━━━━━━━━━━━━━━━━━━━━\u001b[0m\u001b[37m\u001b[0m \u001b[1m32s\u001b[0m 24ms/step - accuracy: 0.9655 - loss: 0.1127 - val_accuracy: 0.9709 - val_loss: 0.0934\n",
      "Epoch 3/5\n",
      "\u001b[1m1313/1313\u001b[0m \u001b[32m━━━━━━━━━━━━━━━━━━━━\u001b[0m\u001b[37m\u001b[0m \u001b[1m34s\u001b[0m 26ms/step - accuracy: 0.9767 - loss: 0.0745 - val_accuracy: 0.9774 - val_loss: 0.0757\n",
      "Epoch 4/5\n",
      "\u001b[1m1313/1313\u001b[0m \u001b[32m━━━━━━━━━━━━━━━━━━━━\u001b[0m\u001b[37m\u001b[0m \u001b[1m34s\u001b[0m 26ms/step - accuracy: 0.9843 - loss: 0.0539 - val_accuracy: 0.9691 - val_loss: 0.1045\n",
      "Epoch 5/5\n",
      "\u001b[1m1313/1313\u001b[0m \u001b[32m━━━━━━━━━━━━━━━━━━━━\u001b[0m\u001b[37m\u001b[0m \u001b[1m32s\u001b[0m 24ms/step - accuracy: 0.9859 - loss: 0.0454 - val_accuracy: 0.9785 - val_loss: 0.0747\n"
     ]
    },
    {
     "data": {
      "text/plain": [
       "<keras.src.callbacks.history.History at 0x19a53f5b860>"
      ]
     },
     "execution_count": 15,
     "metadata": {},
     "output_type": "execute_result"
    }
   ],
   "source": [
    "model.compile(loss=\"sparse_categorical_crossentropy\",optimizer=\"adam\",metrics=[\"accuracy\"])     #compiling our data and using accuracy as matrics to put focus on it.                                     \n",
    "\n",
    "## Training our model\n",
    "model.fit(x_trainr,y_train,epochs=5,validation_split=0.3)                                "
   ]
  },
  {
   "cell_type": "markdown",
   "id": "bc8342ad",
   "metadata": {},
   "source": [
    "## Evaluating our model on testing dataset MNIST"
   ]
  },
  {
   "cell_type": "code",
   "execution_count": 16,
   "id": "bb92e748",
   "metadata": {},
   "outputs": [
    {
     "name": "stdout",
     "output_type": "stream",
     "text": [
      "\u001b[1m313/313\u001b[0m \u001b[32m━━━━━━━━━━━━━━━━━━━━\u001b[0m\u001b[37m\u001b[0m \u001b[1m3s\u001b[0m 10ms/step - accuracy: 0.9779 - loss: 0.0794\n",
      "Test Loss on 10,000 test samples is=  0.06441934406757355\n",
      "Validation Accuracy on 10,000 test samples is=  0.9810000061988831\n"
     ]
    }
   ],
   "source": [
    "test_loss,test_acc = model.evaluate(x_testr,y_test)\n",
    "\n",
    "print(\"Test Loss on 10,000 test samples is= \",test_loss)\n",
    "print(\"Validation Accuracy on 10,000 test samples is= \",test_acc)"
   ]
  },
  {
   "cell_type": "markdown",
   "id": "fad237c9",
   "metadata": {},
   "source": [
    "#### `Accuricy of our model in pretty good.`"
   ]
  },
  {
   "cell_type": "markdown",
   "id": "7631bfce",
   "metadata": {},
   "source": [
    "# Saving our Model:-"
   ]
  },
  {
   "cell_type": "code",
   "execution_count": 23,
   "id": "1f5aa955",
   "metadata": {},
   "outputs": [
    {
     "name": "stderr",
     "output_type": "stream",
     "text": [
      "WARNING:absl:You are saving your model as an HDF5 file via `model.save()` or `keras.saving.save_model(model)`. This file format is considered legacy. We recommend using instead the native Keras format, e.g. `model.save('my_model.keras')` or `keras.saving.save_model(model, 'my_model.keras')`. \n"
     ]
    }
   ],
   "source": [
    "model.save('msc project 2/Handwritten-Digit-And-Character-Recognition-main/Project/saved_model.h5')"
   ]
  },
  {
   "cell_type": "code",
   "execution_count": 26,
   "id": "49b09c22",
   "metadata": {},
   "outputs": [
    {
     "name": "stderr",
     "output_type": "stream",
     "text": [
      "WARNING:absl:Compiled the loaded model, but the compiled metrics have yet to be built. `model.compile_metrics` will be empty until you train or evaluate the model.\n"
     ]
    }
   ],
   "source": [
    "#LOADING OUR SAVED MODEL FOR CHECKING.\n",
    "from tensorflow.keras.models import load_model  \n",
    "new_model=load_model('msc project 2/Handwritten-Digit-And-Character-Recognition-main/Project/saved_model.h5')"
   ]
  },
  {
   "cell_type": "code",
   "execution_count": 27,
   "id": "2b60d80e",
   "metadata": {
    "scrolled": true
   },
   "outputs": [
    {
     "data": {
      "text/html": [
       "<pre style=\"white-space:pre;overflow-x:auto;line-height:normal;font-family:Menlo,'DejaVu Sans Mono',consolas,'Courier New',monospace\"><span style=\"font-weight: bold\">Model: \"sequential\"</span>\n",
       "</pre>\n"
      ],
      "text/plain": [
       "\u001b[1mModel: \"sequential\"\u001b[0m\n"
      ]
     },
     "metadata": {},
     "output_type": "display_data"
    },
    {
     "data": {
      "text/html": [
       "<pre style=\"white-space:pre;overflow-x:auto;line-height:normal;font-family:Menlo,'DejaVu Sans Mono',consolas,'Courier New',monospace\">┏━━━━━━━━━━━━━━━━━━━━━━━━━━━━━━━━━┳━━━━━━━━━━━━━━━━━━━━━━━━┳━━━━━━━━━━━━━━━┓\n",
       "┃<span style=\"font-weight: bold\"> Layer (type)                    </span>┃<span style=\"font-weight: bold\"> Output Shape           </span>┃<span style=\"font-weight: bold\">       Param # </span>┃\n",
       "┡━━━━━━━━━━━━━━━━━━━━━━━━━━━━━━━━━╇━━━━━━━━━━━━━━━━━━━━━━━━╇━━━━━━━━━━━━━━━┩\n",
       "│ conv2d (<span style=\"color: #0087ff; text-decoration-color: #0087ff\">Conv2D</span>)                 │ (<span style=\"color: #00d7ff; text-decoration-color: #00d7ff\">None</span>, <span style=\"color: #00af00; text-decoration-color: #00af00\">26</span>, <span style=\"color: #00af00; text-decoration-color: #00af00\">26</span>, <span style=\"color: #00af00; text-decoration-color: #00af00\">64</span>)     │           <span style=\"color: #00af00; text-decoration-color: #00af00\">640</span> │\n",
       "├─────────────────────────────────┼────────────────────────┼───────────────┤\n",
       "│ activation (<span style=\"color: #0087ff; text-decoration-color: #0087ff\">Activation</span>)         │ (<span style=\"color: #00d7ff; text-decoration-color: #00d7ff\">None</span>, <span style=\"color: #00af00; text-decoration-color: #00af00\">26</span>, <span style=\"color: #00af00; text-decoration-color: #00af00\">26</span>, <span style=\"color: #00af00; text-decoration-color: #00af00\">64</span>)     │             <span style=\"color: #00af00; text-decoration-color: #00af00\">0</span> │\n",
       "├─────────────────────────────────┼────────────────────────┼───────────────┤\n",
       "│ max_pooling2d (<span style=\"color: #0087ff; text-decoration-color: #0087ff\">MaxPooling2D</span>)    │ (<span style=\"color: #00d7ff; text-decoration-color: #00d7ff\">None</span>, <span style=\"color: #00af00; text-decoration-color: #00af00\">13</span>, <span style=\"color: #00af00; text-decoration-color: #00af00\">13</span>, <span style=\"color: #00af00; text-decoration-color: #00af00\">64</span>)     │             <span style=\"color: #00af00; text-decoration-color: #00af00\">0</span> │\n",
       "├─────────────────────────────────┼────────────────────────┼───────────────┤\n",
       "│ conv2d_1 (<span style=\"color: #0087ff; text-decoration-color: #0087ff\">Conv2D</span>)               │ (<span style=\"color: #00d7ff; text-decoration-color: #00d7ff\">None</span>, <span style=\"color: #00af00; text-decoration-color: #00af00\">11</span>, <span style=\"color: #00af00; text-decoration-color: #00af00\">11</span>, <span style=\"color: #00af00; text-decoration-color: #00af00\">64</span>)     │        <span style=\"color: #00af00; text-decoration-color: #00af00\">36,928</span> │\n",
       "├─────────────────────────────────┼────────────────────────┼───────────────┤\n",
       "│ activation_1 (<span style=\"color: #0087ff; text-decoration-color: #0087ff\">Activation</span>)       │ (<span style=\"color: #00d7ff; text-decoration-color: #00d7ff\">None</span>, <span style=\"color: #00af00; text-decoration-color: #00af00\">11</span>, <span style=\"color: #00af00; text-decoration-color: #00af00\">11</span>, <span style=\"color: #00af00; text-decoration-color: #00af00\">64</span>)     │             <span style=\"color: #00af00; text-decoration-color: #00af00\">0</span> │\n",
       "├─────────────────────────────────┼────────────────────────┼───────────────┤\n",
       "│ max_pooling2d_1 (<span style=\"color: #0087ff; text-decoration-color: #0087ff\">MaxPooling2D</span>)  │ (<span style=\"color: #00d7ff; text-decoration-color: #00d7ff\">None</span>, <span style=\"color: #00af00; text-decoration-color: #00af00\">5</span>, <span style=\"color: #00af00; text-decoration-color: #00af00\">5</span>, <span style=\"color: #00af00; text-decoration-color: #00af00\">64</span>)       │             <span style=\"color: #00af00; text-decoration-color: #00af00\">0</span> │\n",
       "├─────────────────────────────────┼────────────────────────┼───────────────┤\n",
       "│ conv2d_2 (<span style=\"color: #0087ff; text-decoration-color: #0087ff\">Conv2D</span>)               │ (<span style=\"color: #00d7ff; text-decoration-color: #00d7ff\">None</span>, <span style=\"color: #00af00; text-decoration-color: #00af00\">3</span>, <span style=\"color: #00af00; text-decoration-color: #00af00\">3</span>, <span style=\"color: #00af00; text-decoration-color: #00af00\">64</span>)       │        <span style=\"color: #00af00; text-decoration-color: #00af00\">36,928</span> │\n",
       "├─────────────────────────────────┼────────────────────────┼───────────────┤\n",
       "│ activation_2 (<span style=\"color: #0087ff; text-decoration-color: #0087ff\">Activation</span>)       │ (<span style=\"color: #00d7ff; text-decoration-color: #00d7ff\">None</span>, <span style=\"color: #00af00; text-decoration-color: #00af00\">3</span>, <span style=\"color: #00af00; text-decoration-color: #00af00\">3</span>, <span style=\"color: #00af00; text-decoration-color: #00af00\">64</span>)       │             <span style=\"color: #00af00; text-decoration-color: #00af00\">0</span> │\n",
       "├─────────────────────────────────┼────────────────────────┼───────────────┤\n",
       "│ max_pooling2d_2 (<span style=\"color: #0087ff; text-decoration-color: #0087ff\">MaxPooling2D</span>)  │ (<span style=\"color: #00d7ff; text-decoration-color: #00d7ff\">None</span>, <span style=\"color: #00af00; text-decoration-color: #00af00\">1</span>, <span style=\"color: #00af00; text-decoration-color: #00af00\">1</span>, <span style=\"color: #00af00; text-decoration-color: #00af00\">64</span>)       │             <span style=\"color: #00af00; text-decoration-color: #00af00\">0</span> │\n",
       "├─────────────────────────────────┼────────────────────────┼───────────────┤\n",
       "│ flatten (<span style=\"color: #0087ff; text-decoration-color: #0087ff\">Flatten</span>)               │ (<span style=\"color: #00d7ff; text-decoration-color: #00d7ff\">None</span>, <span style=\"color: #00af00; text-decoration-color: #00af00\">64</span>)             │             <span style=\"color: #00af00; text-decoration-color: #00af00\">0</span> │\n",
       "├─────────────────────────────────┼────────────────────────┼───────────────┤\n",
       "│ dense (<span style=\"color: #0087ff; text-decoration-color: #0087ff\">Dense</span>)                   │ (<span style=\"color: #00d7ff; text-decoration-color: #00d7ff\">None</span>, <span style=\"color: #00af00; text-decoration-color: #00af00\">64</span>)             │         <span style=\"color: #00af00; text-decoration-color: #00af00\">4,160</span> │\n",
       "├─────────────────────────────────┼────────────────────────┼───────────────┤\n",
       "│ activation_3 (<span style=\"color: #0087ff; text-decoration-color: #0087ff\">Activation</span>)       │ (<span style=\"color: #00d7ff; text-decoration-color: #00d7ff\">None</span>, <span style=\"color: #00af00; text-decoration-color: #00af00\">64</span>)             │             <span style=\"color: #00af00; text-decoration-color: #00af00\">0</span> │\n",
       "├─────────────────────────────────┼────────────────────────┼───────────────┤\n",
       "│ dense_1 (<span style=\"color: #0087ff; text-decoration-color: #0087ff\">Dense</span>)                 │ (<span style=\"color: #00d7ff; text-decoration-color: #00d7ff\">None</span>, <span style=\"color: #00af00; text-decoration-color: #00af00\">32</span>)             │         <span style=\"color: #00af00; text-decoration-color: #00af00\">2,080</span> │\n",
       "├─────────────────────────────────┼────────────────────────┼───────────────┤\n",
       "│ activation_4 (<span style=\"color: #0087ff; text-decoration-color: #0087ff\">Activation</span>)       │ (<span style=\"color: #00d7ff; text-decoration-color: #00d7ff\">None</span>, <span style=\"color: #00af00; text-decoration-color: #00af00\">32</span>)             │             <span style=\"color: #00af00; text-decoration-color: #00af00\">0</span> │\n",
       "├─────────────────────────────────┼────────────────────────┼───────────────┤\n",
       "│ dense_2 (<span style=\"color: #0087ff; text-decoration-color: #0087ff\">Dense</span>)                 │ (<span style=\"color: #00d7ff; text-decoration-color: #00d7ff\">None</span>, <span style=\"color: #00af00; text-decoration-color: #00af00\">10</span>)             │           <span style=\"color: #00af00; text-decoration-color: #00af00\">330</span> │\n",
       "├─────────────────────────────────┼────────────────────────┼───────────────┤\n",
       "│ activation_5 (<span style=\"color: #0087ff; text-decoration-color: #0087ff\">Activation</span>)       │ (<span style=\"color: #00d7ff; text-decoration-color: #00d7ff\">None</span>, <span style=\"color: #00af00; text-decoration-color: #00af00\">10</span>)             │             <span style=\"color: #00af00; text-decoration-color: #00af00\">0</span> │\n",
       "└─────────────────────────────────┴────────────────────────┴───────────────┘\n",
       "</pre>\n"
      ],
      "text/plain": [
       "┏━━━━━━━━━━━━━━━━━━━━━━━━━━━━━━━━━┳━━━━━━━━━━━━━━━━━━━━━━━━┳━━━━━━━━━━━━━━━┓\n",
       "┃\u001b[1m \u001b[0m\u001b[1mLayer (type)                   \u001b[0m\u001b[1m \u001b[0m┃\u001b[1m \u001b[0m\u001b[1mOutput Shape          \u001b[0m\u001b[1m \u001b[0m┃\u001b[1m \u001b[0m\u001b[1m      Param #\u001b[0m\u001b[1m \u001b[0m┃\n",
       "┡━━━━━━━━━━━━━━━━━━━━━━━━━━━━━━━━━╇━━━━━━━━━━━━━━━━━━━━━━━━╇━━━━━━━━━━━━━━━┩\n",
       "│ conv2d (\u001b[38;5;33mConv2D\u001b[0m)                 │ (\u001b[38;5;45mNone\u001b[0m, \u001b[38;5;34m26\u001b[0m, \u001b[38;5;34m26\u001b[0m, \u001b[38;5;34m64\u001b[0m)     │           \u001b[38;5;34m640\u001b[0m │\n",
       "├─────────────────────────────────┼────────────────────────┼───────────────┤\n",
       "│ activation (\u001b[38;5;33mActivation\u001b[0m)         │ (\u001b[38;5;45mNone\u001b[0m, \u001b[38;5;34m26\u001b[0m, \u001b[38;5;34m26\u001b[0m, \u001b[38;5;34m64\u001b[0m)     │             \u001b[38;5;34m0\u001b[0m │\n",
       "├─────────────────────────────────┼────────────────────────┼───────────────┤\n",
       "│ max_pooling2d (\u001b[38;5;33mMaxPooling2D\u001b[0m)    │ (\u001b[38;5;45mNone\u001b[0m, \u001b[38;5;34m13\u001b[0m, \u001b[38;5;34m13\u001b[0m, \u001b[38;5;34m64\u001b[0m)     │             \u001b[38;5;34m0\u001b[0m │\n",
       "├─────────────────────────────────┼────────────────────────┼───────────────┤\n",
       "│ conv2d_1 (\u001b[38;5;33mConv2D\u001b[0m)               │ (\u001b[38;5;45mNone\u001b[0m, \u001b[38;5;34m11\u001b[0m, \u001b[38;5;34m11\u001b[0m, \u001b[38;5;34m64\u001b[0m)     │        \u001b[38;5;34m36,928\u001b[0m │\n",
       "├─────────────────────────────────┼────────────────────────┼───────────────┤\n",
       "│ activation_1 (\u001b[38;5;33mActivation\u001b[0m)       │ (\u001b[38;5;45mNone\u001b[0m, \u001b[38;5;34m11\u001b[0m, \u001b[38;5;34m11\u001b[0m, \u001b[38;5;34m64\u001b[0m)     │             \u001b[38;5;34m0\u001b[0m │\n",
       "├─────────────────────────────────┼────────────────────────┼───────────────┤\n",
       "│ max_pooling2d_1 (\u001b[38;5;33mMaxPooling2D\u001b[0m)  │ (\u001b[38;5;45mNone\u001b[0m, \u001b[38;5;34m5\u001b[0m, \u001b[38;5;34m5\u001b[0m, \u001b[38;5;34m64\u001b[0m)       │             \u001b[38;5;34m0\u001b[0m │\n",
       "├─────────────────────────────────┼────────────────────────┼───────────────┤\n",
       "│ conv2d_2 (\u001b[38;5;33mConv2D\u001b[0m)               │ (\u001b[38;5;45mNone\u001b[0m, \u001b[38;5;34m3\u001b[0m, \u001b[38;5;34m3\u001b[0m, \u001b[38;5;34m64\u001b[0m)       │        \u001b[38;5;34m36,928\u001b[0m │\n",
       "├─────────────────────────────────┼────────────────────────┼───────────────┤\n",
       "│ activation_2 (\u001b[38;5;33mActivation\u001b[0m)       │ (\u001b[38;5;45mNone\u001b[0m, \u001b[38;5;34m3\u001b[0m, \u001b[38;5;34m3\u001b[0m, \u001b[38;5;34m64\u001b[0m)       │             \u001b[38;5;34m0\u001b[0m │\n",
       "├─────────────────────────────────┼────────────────────────┼───────────────┤\n",
       "│ max_pooling2d_2 (\u001b[38;5;33mMaxPooling2D\u001b[0m)  │ (\u001b[38;5;45mNone\u001b[0m, \u001b[38;5;34m1\u001b[0m, \u001b[38;5;34m1\u001b[0m, \u001b[38;5;34m64\u001b[0m)       │             \u001b[38;5;34m0\u001b[0m │\n",
       "├─────────────────────────────────┼────────────────────────┼───────────────┤\n",
       "│ flatten (\u001b[38;5;33mFlatten\u001b[0m)               │ (\u001b[38;5;45mNone\u001b[0m, \u001b[38;5;34m64\u001b[0m)             │             \u001b[38;5;34m0\u001b[0m │\n",
       "├─────────────────────────────────┼────────────────────────┼───────────────┤\n",
       "│ dense (\u001b[38;5;33mDense\u001b[0m)                   │ (\u001b[38;5;45mNone\u001b[0m, \u001b[38;5;34m64\u001b[0m)             │         \u001b[38;5;34m4,160\u001b[0m │\n",
       "├─────────────────────────────────┼────────────────────────┼───────────────┤\n",
       "│ activation_3 (\u001b[38;5;33mActivation\u001b[0m)       │ (\u001b[38;5;45mNone\u001b[0m, \u001b[38;5;34m64\u001b[0m)             │             \u001b[38;5;34m0\u001b[0m │\n",
       "├─────────────────────────────────┼────────────────────────┼───────────────┤\n",
       "│ dense_1 (\u001b[38;5;33mDense\u001b[0m)                 │ (\u001b[38;5;45mNone\u001b[0m, \u001b[38;5;34m32\u001b[0m)             │         \u001b[38;5;34m2,080\u001b[0m │\n",
       "├─────────────────────────────────┼────────────────────────┼───────────────┤\n",
       "│ activation_4 (\u001b[38;5;33mActivation\u001b[0m)       │ (\u001b[38;5;45mNone\u001b[0m, \u001b[38;5;34m32\u001b[0m)             │             \u001b[38;5;34m0\u001b[0m │\n",
       "├─────────────────────────────────┼────────────────────────┼───────────────┤\n",
       "│ dense_2 (\u001b[38;5;33mDense\u001b[0m)                 │ (\u001b[38;5;45mNone\u001b[0m, \u001b[38;5;34m10\u001b[0m)             │           \u001b[38;5;34m330\u001b[0m │\n",
       "├─────────────────────────────────┼────────────────────────┼───────────────┤\n",
       "│ activation_5 (\u001b[38;5;33mActivation\u001b[0m)       │ (\u001b[38;5;45mNone\u001b[0m, \u001b[38;5;34m10\u001b[0m)             │             \u001b[38;5;34m0\u001b[0m │\n",
       "└─────────────────────────────────┴────────────────────────┴───────────────┘\n"
      ]
     },
     "metadata": {},
     "output_type": "display_data"
    },
    {
     "data": {
      "text/html": [
       "<pre style=\"white-space:pre;overflow-x:auto;line-height:normal;font-family:Menlo,'DejaVu Sans Mono',consolas,'Courier New',monospace\"><span style=\"font-weight: bold\"> Total params: </span><span style=\"color: #00af00; text-decoration-color: #00af00\">81,068</span> (316.68 KB)\n",
       "</pre>\n"
      ],
      "text/plain": [
       "\u001b[1m Total params: \u001b[0m\u001b[38;5;34m81,068\u001b[0m (316.68 KB)\n"
      ]
     },
     "metadata": {},
     "output_type": "display_data"
    },
    {
     "data": {
      "text/html": [
       "<pre style=\"white-space:pre;overflow-x:auto;line-height:normal;font-family:Menlo,'DejaVu Sans Mono',consolas,'Courier New',monospace\"><span style=\"font-weight: bold\"> Trainable params: </span><span style=\"color: #00af00; text-decoration-color: #00af00\">81,066</span> (316.66 KB)\n",
       "</pre>\n"
      ],
      "text/plain": [
       "\u001b[1m Trainable params: \u001b[0m\u001b[38;5;34m81,066\u001b[0m (316.66 KB)\n"
      ]
     },
     "metadata": {},
     "output_type": "display_data"
    },
    {
     "data": {
      "text/html": [
       "<pre style=\"white-space:pre;overflow-x:auto;line-height:normal;font-family:Menlo,'DejaVu Sans Mono',consolas,'Courier New',monospace\"><span style=\"font-weight: bold\"> Non-trainable params: </span><span style=\"color: #00af00; text-decoration-color: #00af00\">0</span> (0.00 B)\n",
       "</pre>\n"
      ],
      "text/plain": [
       "\u001b[1m Non-trainable params: \u001b[0m\u001b[38;5;34m0\u001b[0m (0.00 B)\n"
      ]
     },
     "metadata": {},
     "output_type": "display_data"
    },
    {
     "data": {
      "text/html": [
       "<pre style=\"white-space:pre;overflow-x:auto;line-height:normal;font-family:Menlo,'DejaVu Sans Mono',consolas,'Courier New',monospace\"><span style=\"font-weight: bold\"> Optimizer params: </span><span style=\"color: #00af00; text-decoration-color: #00af00\">2</span> (12.00 B)\n",
       "</pre>\n"
      ],
      "text/plain": [
       "\u001b[1m Optimizer params: \u001b[0m\u001b[38;5;34m2\u001b[0m (12.00 B)\n"
      ]
     },
     "metadata": {},
     "output_type": "display_data"
    }
   ],
   "source": [
    "#CHECKING THE SAVED MODELS  SUMMARY.\n",
    "new_model.summary()                             "
   ]
  },
  {
   "cell_type": "markdown",
   "id": "aa764eab",
   "metadata": {},
   "source": [
    "### `Our model has been saved successfully`"
   ]
  }
 ],
 "metadata": {
  "kernelspec": {
   "display_name": "Python 3",
   "language": "python",
   "name": "python3"
  },
  "language_info": {
   "codemirror_mode": {
    "name": "ipython",
    "version": 3
   },
   "file_extension": ".py",
   "mimetype": "text/x-python",
   "name": "python",
   "nbconvert_exporter": "python",
   "pygments_lexer": "ipython3",
   "version": "3.12.2"
  }
 },
 "nbformat": 4,
 "nbformat_minor": 5
}
